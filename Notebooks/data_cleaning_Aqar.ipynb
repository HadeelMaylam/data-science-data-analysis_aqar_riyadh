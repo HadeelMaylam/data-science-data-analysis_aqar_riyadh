{
 "cells": [
  {
   "cell_type": "code",
   "execution_count": 1,
   "metadata": {},
   "outputs": [],
   "source": [
    "import numpy as np\n",
    "import matplotlib.pyplot as plt\n",
    "import pandas as pd\n",
    "import seaborn as sns"
   ]
  },
  {
   "cell_type": "code",
   "execution_count": 2,
   "metadata": {},
   "outputs": [
    {
     "data": {
      "text/html": [
       "<div>\n",
       "<style scoped>\n",
       "    .dataframe tbody tr th:only-of-type {\n",
       "        vertical-align: middle;\n",
       "    }\n",
       "\n",
       "    .dataframe tbody tr th {\n",
       "        vertical-align: top;\n",
       "    }\n",
       "\n",
       "    .dataframe thead th {\n",
       "        text-align: right;\n",
       "    }\n",
       "</style>\n",
       "<table border=\"1\" class=\"dataframe\">\n",
       "  <thead>\n",
       "    <tr style=\"text-align: right;\">\n",
       "      <th></th>\n",
       "      <th>Property_ID</th>\n",
       "      <th>Property Type</th>\n",
       "      <th>Bedrooms</th>\n",
       "      <th>Bathrooms</th>\n",
       "      <th>Area</th>\n",
       "      <th>Price</th>\n",
       "      <th>Description</th>\n",
       "      <th>Location</th>\n",
       "      <th>District</th>\n",
       "      <th>City</th>\n",
       "      <th>Agency_Name</th>\n",
       "    </tr>\n",
       "  </thead>\n",
       "  <tbody>\n",
       "    <tr>\n",
       "      <th>0</th>\n",
       "      <td>A877409248</td>\n",
       "      <td>دور</td>\n",
       "      <td>6</td>\n",
       "      <td>5.0</td>\n",
       "      <td>214 م2</td>\n",
       "      <td>730,000</td>\n",
       "      <td>دور للبيع في بدر, جنوب الرياض</td>\n",
       "      <td>بدر، جنوب الرياض، الرياض</td>\n",
       "      <td>حي بدر</td>\n",
       "      <td>الرياض</td>\n",
       "      <td>NaN</td>\n",
       "    </tr>\n",
       "    <tr>\n",
       "      <th>1</th>\n",
       "      <td>W448904463</td>\n",
       "      <td>فیلا</td>\n",
       "      <td>5</td>\n",
       "      <td>6.0</td>\n",
       "      <td>440 م2</td>\n",
       "      <td>4,800,000</td>\n",
       "      <td>فيلا للبيع في الملك فهد، شمال الرياض</td>\n",
       "      <td>الملك فهد، شمال الرياض، الرياض</td>\n",
       "      <td>حي الملك فهد</td>\n",
       "      <td>الرياض</td>\n",
       "      <td>NaN</td>\n",
       "    </tr>\n",
       "    <tr>\n",
       "      <th>2</th>\n",
       "      <td>M187516680</td>\n",
       "      <td>فیلا</td>\n",
       "      <td>11</td>\n",
       "      <td>6.0</td>\n",
       "      <td>445 م2</td>\n",
       "      <td>5,000,000</td>\n",
       "      <td>فيلا للبيع في الوادي، شمال الرياض</td>\n",
       "      <td>الوادي، شمال الرياض، الرياض</td>\n",
       "      <td>حي الوادي</td>\n",
       "      <td>الرياض</td>\n",
       "      <td>NaN</td>\n",
       "    </tr>\n",
       "    <tr>\n",
       "      <th>3</th>\n",
       "      <td>H808583263</td>\n",
       "      <td>دور</td>\n",
       "      <td>6</td>\n",
       "      <td>5.0</td>\n",
       "      <td>185 م2</td>\n",
       "      <td>1,200,000</td>\n",
       "      <td>دور للبيع في  المونسية، شرق الرياض</td>\n",
       "      <td>المونسية، شرق الرياض، الرياض</td>\n",
       "      <td>حي المونسية</td>\n",
       "      <td>الرياض</td>\n",
       "      <td>NaN</td>\n",
       "    </tr>\n",
       "    <tr>\n",
       "      <th>4</th>\n",
       "      <td>T501925005</td>\n",
       "      <td>فیلا</td>\n",
       "      <td>6</td>\n",
       "      <td>6.0</td>\n",
       "      <td>300 م2</td>\n",
       "      <td>980,000</td>\n",
       "      <td>فيلا للبيع في  بدر، جنوب الرياض</td>\n",
       "      <td>بدر، جنوب الرياض، الرياض</td>\n",
       "      <td>حي بدر</td>\n",
       "      <td>الرياض</td>\n",
       "      <td>مؤسسة غزالة للخدمات العقارية</td>\n",
       "    </tr>\n",
       "    <tr>\n",
       "      <th>...</th>\n",
       "      <td>...</td>\n",
       "      <td>...</td>\n",
       "      <td>...</td>\n",
       "      <td>...</td>\n",
       "      <td>...</td>\n",
       "      <td>...</td>\n",
       "      <td>...</td>\n",
       "      <td>...</td>\n",
       "      <td>...</td>\n",
       "      <td>...</td>\n",
       "      <td>...</td>\n",
       "    </tr>\n",
       "    <tr>\n",
       "      <th>1195</th>\n",
       "      <td>X468237196</td>\n",
       "      <td>شقة</td>\n",
       "      <td>3</td>\n",
       "      <td>4.0</td>\n",
       "      <td>124 م2</td>\n",
       "      <td>580,000</td>\n",
       "      <td>شقة للبيع في السويدي، غرب الرياض</td>\n",
       "      <td>السويدي، غرب الرياض، الرياض</td>\n",
       "      <td>حي السويدي</td>\n",
       "      <td>الرياض</td>\n",
       "      <td>شركة نجمة التميز للعقارات</td>\n",
       "    </tr>\n",
       "    <tr>\n",
       "      <th>1196</th>\n",
       "      <td>I067502048</td>\n",
       "      <td>فیلا</td>\n",
       "      <td>4</td>\n",
       "      <td>6.0</td>\n",
       "      <td>496 م2</td>\n",
       "      <td>4,400,000</td>\n",
       "      <td>فيلا للبيع في المونسية, شرق الرياض</td>\n",
       "      <td>المونسية، شرق الرياض، الرياض</td>\n",
       "      <td>حي المونسية</td>\n",
       "      <td>الرياض</td>\n",
       "      <td>مكتب عبدالله بن فيحان بن محمد العتيبي للعقارات</td>\n",
       "    </tr>\n",
       "    <tr>\n",
       "      <th>1197</th>\n",
       "      <td>R750563705</td>\n",
       "      <td>شقة</td>\n",
       "      <td>3</td>\n",
       "      <td>3.0</td>\n",
       "      <td>131 م2</td>\n",
       "      <td>430,000</td>\n",
       "      <td>شقق فاخرة للبيع في بدر، جنوب الرياض</td>\n",
       "      <td>بدر، جنوب الرياض، الرياض</td>\n",
       "      <td>حي بدر</td>\n",
       "      <td>الرياض</td>\n",
       "      <td>شركة نجمة التميز للعقارات</td>\n",
       "    </tr>\n",
       "    <tr>\n",
       "      <th>1198</th>\n",
       "      <td>G315034386</td>\n",
       "      <td>دور</td>\n",
       "      <td>4</td>\n",
       "      <td>3.0</td>\n",
       "      <td>214 م2</td>\n",
       "      <td>740,000</td>\n",
       "      <td>دور للبيع في بدر، جنوب الرياض</td>\n",
       "      <td>بدر، جنوب الرياض، الرياض</td>\n",
       "      <td>حي بدر</td>\n",
       "      <td>الرياض</td>\n",
       "      <td>شركة نجمة التميز للعقارات</td>\n",
       "    </tr>\n",
       "    <tr>\n",
       "      <th>1199</th>\n",
       "      <td>D355129692</td>\n",
       "      <td>دور</td>\n",
       "      <td>3</td>\n",
       "      <td>2.0</td>\n",
       "      <td>621 م2</td>\n",
       "      <td>1,500,000</td>\n",
       "      <td>دور للبيع في المونسية، شرق الرياض</td>\n",
       "      <td>المونسية، شرق الرياض، الرياض</td>\n",
       "      <td>حي المونسية</td>\n",
       "      <td>الرياض</td>\n",
       "      <td>مؤسسة وسام المساكن العقارية</td>\n",
       "    </tr>\n",
       "  </tbody>\n",
       "</table>\n",
       "<p>1200 rows × 11 columns</p>\n",
       "</div>"
      ],
      "text/plain": [
       "     Property_ID Property Type Bedrooms  Bathrooms    Area      Price  \\\n",
       "0     A877409248           دور        6        5.0  214 م2    730,000   \n",
       "1     W448904463          فیلا        5        6.0  440 م2  4,800,000   \n",
       "2     M187516680          فیلا       11        6.0  445 م2  5,000,000   \n",
       "3     H808583263           دور        6        5.0  185 م2  1,200,000   \n",
       "4     T501925005          فیلا        6        6.0  300 م2    980,000   \n",
       "...          ...           ...      ...        ...     ...        ...   \n",
       "1195  X468237196           شقة        3        4.0  124 م2    580,000   \n",
       "1196  I067502048          فیلا        4        6.0  496 م2  4,400,000   \n",
       "1197  R750563705           شقة        3        3.0  131 م2    430,000   \n",
       "1198  G315034386           دور        4        3.0  214 م2    740,000   \n",
       "1199  D355129692           دور        3        2.0  621 م2  1,500,000   \n",
       "\n",
       "                               Description                        Location  \\\n",
       "0            دور للبيع في بدر, جنوب الرياض        بدر، جنوب الرياض، الرياض   \n",
       "1     فيلا للبيع في الملك فهد، شمال الرياض  الملك فهد، شمال الرياض، الرياض   \n",
       "2        فيلا للبيع في الوادي، شمال الرياض     الوادي، شمال الرياض، الرياض   \n",
       "3       دور للبيع في  المونسية، شرق الرياض    المونسية، شرق الرياض، الرياض   \n",
       "4          فيلا للبيع في  بدر، جنوب الرياض        بدر، جنوب الرياض، الرياض   \n",
       "...                                    ...                             ...   \n",
       "1195      شقة للبيع في السويدي، غرب الرياض     السويدي، غرب الرياض، الرياض   \n",
       "1196    فيلا للبيع في المونسية, شرق الرياض    المونسية، شرق الرياض، الرياض   \n",
       "1197   شقق فاخرة للبيع في بدر، جنوب الرياض        بدر، جنوب الرياض، الرياض   \n",
       "1198         دور للبيع في بدر، جنوب الرياض        بدر، جنوب الرياض، الرياض   \n",
       "1199     دور للبيع في المونسية، شرق الرياض    المونسية، شرق الرياض، الرياض   \n",
       "\n",
       "          District    City                                     Agency_Name  \n",
       "0           حي بدر  الرياض                                             NaN  \n",
       "1     حي الملك فهد  الرياض                                             NaN  \n",
       "2        حي الوادي  الرياض                                             NaN  \n",
       "3      حي المونسية  الرياض                                             NaN  \n",
       "4           حي بدر  الرياض                    مؤسسة غزالة للخدمات العقارية  \n",
       "...            ...     ...                                             ...  \n",
       "1195    حي السويدي  الرياض                       شركة نجمة التميز للعقارات  \n",
       "1196   حي المونسية  الرياض  مكتب عبدالله بن فيحان بن محمد العتيبي للعقارات  \n",
       "1197        حي بدر  الرياض                       شركة نجمة التميز للعقارات  \n",
       "1198        حي بدر  الرياض                       شركة نجمة التميز للعقارات  \n",
       "1199   حي المونسية  الرياض                     مؤسسة وسام المساكن العقارية  \n",
       "\n",
       "[1200 rows x 11 columns]"
      ]
     },
     "execution_count": 2,
     "metadata": {},
     "output_type": "execute_result"
    }
   ],
   "source": [
    "df = pd.read_excel('../Data/Aqar_Riyadh_Raw.xlsx')\n",
    "df\n"
   ]
  },
  {
   "cell_type": "code",
   "execution_count": 3,
   "metadata": {},
   "outputs": [
    {
     "name": "stdout",
     "output_type": "stream",
     "text": [
      "<class 'pandas.core.frame.DataFrame'>\n",
      "RangeIndex: 1200 entries, 0 to 1199\n",
      "Data columns (total 11 columns):\n",
      " #   Column         Non-Null Count  Dtype  \n",
      "---  ------         --------------  -----  \n",
      " 0   Property_ID    1200 non-null   object \n",
      " 1   Property Type  1200 non-null   object \n",
      " 2   Bedrooms       1132 non-null   object \n",
      " 3   Bathrooms      1129 non-null   float64\n",
      " 4   Area           1200 non-null   object \n",
      " 5   Price          1200 non-null   object \n",
      " 6   Description    1200 non-null   object \n",
      " 7   Location       1200 non-null   object \n",
      " 8   District       1200 non-null   object \n",
      " 9   City           1192 non-null   object \n",
      " 10  Agency_Name    821 non-null    object \n",
      "dtypes: float64(1), object(10)\n",
      "memory usage: 103.3+ KB\n"
     ]
    }
   ],
   "source": [
    "df.info()"
   ]
  },
  {
   "cell_type": "code",
   "execution_count": 4,
   "metadata": {},
   "outputs": [
    {
     "data": {
      "text/html": [
       "<div>\n",
       "<style scoped>\n",
       "    .dataframe tbody tr th:only-of-type {\n",
       "        vertical-align: middle;\n",
       "    }\n",
       "\n",
       "    .dataframe tbody tr th {\n",
       "        vertical-align: top;\n",
       "    }\n",
       "\n",
       "    .dataframe thead th {\n",
       "        text-align: right;\n",
       "    }\n",
       "</style>\n",
       "<table border=\"1\" class=\"dataframe\">\n",
       "  <thead>\n",
       "    <tr style=\"text-align: right;\">\n",
       "      <th></th>\n",
       "      <th>count</th>\n",
       "      <th>mean</th>\n",
       "      <th>std</th>\n",
       "      <th>min</th>\n",
       "      <th>25%</th>\n",
       "      <th>50%</th>\n",
       "      <th>75%</th>\n",
       "      <th>max</th>\n",
       "    </tr>\n",
       "  </thead>\n",
       "  <tbody>\n",
       "    <tr>\n",
       "      <th>Bathrooms</th>\n",
       "      <td>1129.0</td>\n",
       "      <td>3.955713</td>\n",
       "      <td>1.533834</td>\n",
       "      <td>1.0</td>\n",
       "      <td>3.0</td>\n",
       "      <td>4.0</td>\n",
       "      <td>5.0</td>\n",
       "      <td>14.0</td>\n",
       "    </tr>\n",
       "  </tbody>\n",
       "</table>\n",
       "</div>"
      ],
      "text/plain": [
       "            count      mean       std  min  25%  50%  75%   max\n",
       "Bathrooms  1129.0  3.955713  1.533834  1.0  3.0  4.0  5.0  14.0"
      ]
     },
     "execution_count": 4,
     "metadata": {},
     "output_type": "execute_result"
    }
   ],
   "source": [
    "df.describe().T"
   ]
  },
  {
   "cell_type": "code",
   "execution_count": 5,
   "metadata": {},
   "outputs": [
    {
     "data": {
      "text/html": [
       "<div>\n",
       "<style scoped>\n",
       "    .dataframe tbody tr th:only-of-type {\n",
       "        vertical-align: middle;\n",
       "    }\n",
       "\n",
       "    .dataframe tbody tr th {\n",
       "        vertical-align: top;\n",
       "    }\n",
       "\n",
       "    .dataframe thead th {\n",
       "        text-align: right;\n",
       "    }\n",
       "</style>\n",
       "<table border=\"1\" class=\"dataframe\">\n",
       "  <thead>\n",
       "    <tr style=\"text-align: right;\">\n",
       "      <th></th>\n",
       "      <th>count</th>\n",
       "      <th>unique</th>\n",
       "      <th>top</th>\n",
       "      <th>freq</th>\n",
       "    </tr>\n",
       "  </thead>\n",
       "  <tbody>\n",
       "    <tr>\n",
       "      <th>Property_ID</th>\n",
       "      <td>1200</td>\n",
       "      <td>1190</td>\n",
       "      <td>P184680884</td>\n",
       "      <td>3</td>\n",
       "    </tr>\n",
       "    <tr>\n",
       "      <th>Property Type</th>\n",
       "      <td>1200</td>\n",
       "      <td>8</td>\n",
       "      <td>شقة</td>\n",
       "      <td>395</td>\n",
       "    </tr>\n",
       "    <tr>\n",
       "      <th>Bedrooms</th>\n",
       "      <td>1132</td>\n",
       "      <td>15</td>\n",
       "      <td>3</td>\n",
       "      <td>472</td>\n",
       "    </tr>\n",
       "    <tr>\n",
       "      <th>Area</th>\n",
       "      <td>1200</td>\n",
       "      <td>317</td>\n",
       "      <td>500 م2</td>\n",
       "      <td>94</td>\n",
       "    </tr>\n",
       "    <tr>\n",
       "      <th>Price</th>\n",
       "      <td>1200</td>\n",
       "      <td>288</td>\n",
       "      <td>860,000</td>\n",
       "      <td>74</td>\n",
       "    </tr>\n",
       "    <tr>\n",
       "      <th>Description</th>\n",
       "      <td>1200</td>\n",
       "      <td>664</td>\n",
       "      <td>شقة للبيع في بدر، جنوب الرياض</td>\n",
       "      <td>32</td>\n",
       "    </tr>\n",
       "    <tr>\n",
       "      <th>Location</th>\n",
       "      <td>1200</td>\n",
       "      <td>108</td>\n",
       "      <td>بدر، جنوب الرياض، الرياض</td>\n",
       "      <td>130</td>\n",
       "    </tr>\n",
       "    <tr>\n",
       "      <th>District</th>\n",
       "      <td>1200</td>\n",
       "      <td>108</td>\n",
       "      <td>حي بدر</td>\n",
       "      <td>130</td>\n",
       "    </tr>\n",
       "    <tr>\n",
       "      <th>City</th>\n",
       "      <td>1192</td>\n",
       "      <td>1</td>\n",
       "      <td>الرياض</td>\n",
       "      <td>1192</td>\n",
       "    </tr>\n",
       "    <tr>\n",
       "      <th>Agency_Name</th>\n",
       "      <td>821</td>\n",
       "      <td>151</td>\n",
       "      <td>شركة نجمة التميز للعقارات</td>\n",
       "      <td>198</td>\n",
       "    </tr>\n",
       "  </tbody>\n",
       "</table>\n",
       "</div>"
      ],
      "text/plain": [
       "              count unique                            top  freq\n",
       "Property_ID    1200   1190                     P184680884     3\n",
       "Property Type  1200      8                            شقة   395\n",
       "Bedrooms       1132     15                              3   472\n",
       "Area           1200    317                         500 م2    94\n",
       "Price          1200    288                        860,000    74\n",
       "Description    1200    664  شقة للبيع في بدر، جنوب الرياض    32\n",
       "Location       1200    108       بدر، جنوب الرياض، الرياض   130\n",
       "District       1200    108                         حي بدر   130\n",
       "City           1192      1                         الرياض  1192\n",
       "Agency_Name     821    151      شركة نجمة التميز للعقارات   198"
      ]
     },
     "execution_count": 5,
     "metadata": {},
     "output_type": "execute_result"
    }
   ],
   "source": [
    "df.describe(include='object').T"
   ]
  },
  {
   "cell_type": "markdown",
   "metadata": {},
   "source": [
    "**considering that City column only has one value whic is (رياض) we will deop it**\n",
    "**Description column's information is already availavle in other columns so we will drop it**"
   ]
  },
  {
   "cell_type": "code",
   "execution_count": 6,
   "metadata": {},
   "outputs": [],
   "source": [
    "df.drop([\"City\",\"Description\"], axis=1, inplace=True)"
   ]
  },
  {
   "cell_type": "code",
   "execution_count": 7,
   "metadata": {},
   "outputs": [],
   "source": [
    "df[\"Bedrooms\"].fillna(0, inplace=True)\n",
    "df[\"Bathrooms\"].fillna(0, inplace=True)"
   ]
  },
  {
   "cell_type": "code",
   "execution_count": 8,
   "metadata": {},
   "outputs": [
    {
     "name": "stdout",
     "output_type": "stream",
     "text": [
      "<class 'pandas.core.frame.DataFrame'>\n",
      "RangeIndex: 1200 entries, 0 to 1199\n",
      "Data columns (total 9 columns):\n",
      " #   Column         Non-Null Count  Dtype  \n",
      "---  ------         --------------  -----  \n",
      " 0   Property_ID    1200 non-null   object \n",
      " 1   Property Type  1200 non-null   object \n",
      " 2   Bedrooms       1200 non-null   object \n",
      " 3   Bathrooms      1200 non-null   float64\n",
      " 4   Area           1200 non-null   object \n",
      " 5   Price          1200 non-null   object \n",
      " 6   Location       1200 non-null   object \n",
      " 7   District       1200 non-null   object \n",
      " 8   Agency_Name    821 non-null    object \n",
      "dtypes: float64(1), object(8)\n",
      "memory usage: 84.5+ KB\n"
     ]
    }
   ],
   "source": [
    "df.info()"
   ]
  },
  {
   "cell_type": "markdown",
   "metadata": {},
   "source": [
    "**to preprocess the Area and Price columns we need to remove the commas and the meter squared and change their types to integer**"
   ]
  },
  {
   "cell_type": "code",
   "execution_count": 9,
   "metadata": {},
   "outputs": [],
   "source": [
    "df[\"Area\"] = df[\"Area\"].apply(lambda x: x.split()[0])\n",
    "df['Area'] = df['Area'].str.replace(\",\", \"\").str.strip()\n",
    "\n",
    "df['Price'] = df['Price'].str.replace(\",\", \"\").str.strip()"
   ]
  },
  {
   "cell_type": "code",
   "execution_count": 10,
   "metadata": {},
   "outputs": [
    {
     "data": {
      "text/html": [
       "<div>\n",
       "<style scoped>\n",
       "    .dataframe tbody tr th:only-of-type {\n",
       "        vertical-align: middle;\n",
       "    }\n",
       "\n",
       "    .dataframe tbody tr th {\n",
       "        vertical-align: top;\n",
       "    }\n",
       "\n",
       "    .dataframe thead th {\n",
       "        text-align: right;\n",
       "    }\n",
       "</style>\n",
       "<table border=\"1\" class=\"dataframe\">\n",
       "  <thead>\n",
       "    <tr style=\"text-align: right;\">\n",
       "      <th></th>\n",
       "      <th>Property_ID</th>\n",
       "      <th>Property Type</th>\n",
       "      <th>Bedrooms</th>\n",
       "      <th>Bathrooms</th>\n",
       "      <th>Area</th>\n",
       "      <th>Price</th>\n",
       "      <th>Location</th>\n",
       "      <th>District</th>\n",
       "      <th>Agency_Name</th>\n",
       "    </tr>\n",
       "  </thead>\n",
       "  <tbody>\n",
       "    <tr>\n",
       "      <th>0</th>\n",
       "      <td>A877409248</td>\n",
       "      <td>دور</td>\n",
       "      <td>6</td>\n",
       "      <td>5.0</td>\n",
       "      <td>214</td>\n",
       "      <td>730000</td>\n",
       "      <td>بدر، جنوب الرياض، الرياض</td>\n",
       "      <td>حي بدر</td>\n",
       "      <td>NaN</td>\n",
       "    </tr>\n",
       "    <tr>\n",
       "      <th>1</th>\n",
       "      <td>W448904463</td>\n",
       "      <td>فیلا</td>\n",
       "      <td>5</td>\n",
       "      <td>6.0</td>\n",
       "      <td>440</td>\n",
       "      <td>4800000</td>\n",
       "      <td>الملك فهد، شمال الرياض، الرياض</td>\n",
       "      <td>حي الملك فهد</td>\n",
       "      <td>NaN</td>\n",
       "    </tr>\n",
       "    <tr>\n",
       "      <th>2</th>\n",
       "      <td>M187516680</td>\n",
       "      <td>فیلا</td>\n",
       "      <td>11</td>\n",
       "      <td>6.0</td>\n",
       "      <td>445</td>\n",
       "      <td>5000000</td>\n",
       "      <td>الوادي، شمال الرياض، الرياض</td>\n",
       "      <td>حي الوادي</td>\n",
       "      <td>NaN</td>\n",
       "    </tr>\n",
       "    <tr>\n",
       "      <th>3</th>\n",
       "      <td>H808583263</td>\n",
       "      <td>دور</td>\n",
       "      <td>6</td>\n",
       "      <td>5.0</td>\n",
       "      <td>185</td>\n",
       "      <td>1200000</td>\n",
       "      <td>المونسية، شرق الرياض، الرياض</td>\n",
       "      <td>حي المونسية</td>\n",
       "      <td>NaN</td>\n",
       "    </tr>\n",
       "    <tr>\n",
       "      <th>4</th>\n",
       "      <td>T501925005</td>\n",
       "      <td>فیلا</td>\n",
       "      <td>6</td>\n",
       "      <td>6.0</td>\n",
       "      <td>300</td>\n",
       "      <td>980000</td>\n",
       "      <td>بدر، جنوب الرياض، الرياض</td>\n",
       "      <td>حي بدر</td>\n",
       "      <td>مؤسسة غزالة للخدمات العقارية</td>\n",
       "    </tr>\n",
       "  </tbody>\n",
       "</table>\n",
       "</div>"
      ],
      "text/plain": [
       "  Property_ID Property Type Bedrooms  Bathrooms Area    Price  \\\n",
       "0  A877409248           دور        6        5.0  214   730000   \n",
       "1  W448904463          فیلا        5        6.0  440  4800000   \n",
       "2  M187516680          فیلا       11        6.0  445  5000000   \n",
       "3  H808583263           دور        6        5.0  185  1200000   \n",
       "4  T501925005          فیلا        6        6.0  300   980000   \n",
       "\n",
       "                         Location      District                   Agency_Name  \n",
       "0        بدر، جنوب الرياض، الرياض        حي بدر                           NaN  \n",
       "1  الملك فهد، شمال الرياض، الرياض  حي الملك فهد                           NaN  \n",
       "2     الوادي، شمال الرياض، الرياض     حي الوادي                           NaN  \n",
       "3    المونسية، شرق الرياض، الرياض   حي المونسية                           NaN  \n",
       "4        بدر، جنوب الرياض، الرياض        حي بدر  مؤسسة غزالة للخدمات العقارية  "
      ]
     },
     "execution_count": 10,
     "metadata": {},
     "output_type": "execute_result"
    }
   ],
   "source": [
    "df.head()"
   ]
  },
  {
   "cell_type": "code",
   "execution_count": 11,
   "metadata": {},
   "outputs": [
    {
     "data": {
      "text/plain": [
       "Property_ID                       E562543978\n",
       "Property Type                            شقة\n",
       "Bedrooms                                   3\n",
       "Bathrooms                                3.0\n",
       "Area                                    3150\n",
       "Price                                1235000\n",
       "Location         العارض، شمال الرياض، الرياض\n",
       "District                           حي العارض\n",
       "Agency_Name               شركة رفاه العقارية\n",
       "Name: 112, dtype: object"
      ]
     },
     "execution_count": 11,
     "metadata": {},
     "output_type": "execute_result"
    }
   ],
   "source": [
    "df.iloc[112]"
   ]
  },
  {
   "cell_type": "code",
   "execution_count": 12,
   "metadata": {},
   "outputs": [
    {
     "ename": "ValueError",
     "evalue": "invalid literal for int() with base 10: 'استوديو'",
     "output_type": "error",
     "traceback": [
      "\u001b[1;31m---------------------------------------------------------------------------\u001b[0m",
      "\u001b[1;31mValueError\u001b[0m                                Traceback (most recent call last)",
      "Cell \u001b[1;32mIn[12], line 1\u001b[0m\n\u001b[1;32m----> 1\u001b[0m df[\u001b[38;5;124m\"\u001b[39m\u001b[38;5;124mBedrooms\u001b[39m\u001b[38;5;124m\"\u001b[39m] \u001b[38;5;241m=\u001b[39m \u001b[43mdf\u001b[49m\u001b[43m[\u001b[49m\u001b[38;5;124;43m\"\u001b[39;49m\u001b[38;5;124;43mBedrooms\u001b[39;49m\u001b[38;5;124;43m\"\u001b[39;49m\u001b[43m]\u001b[49m\u001b[38;5;241;43m.\u001b[39;49m\u001b[43mastype\u001b[49m\u001b[43m(\u001b[49m\u001b[38;5;28;43mint\u001b[39;49m\u001b[43m)\u001b[49m\n",
      "File \u001b[1;32mc:\\Users\\alawi\\AppData\\Local\\Programs\\Python\\Python311\\Lib\\site-packages\\pandas\\core\\generic.py:6324\u001b[0m, in \u001b[0;36mNDFrame.astype\u001b[1;34m(self, dtype, copy, errors)\u001b[0m\n\u001b[0;32m   6317\u001b[0m     results \u001b[38;5;241m=\u001b[39m [\n\u001b[0;32m   6318\u001b[0m         \u001b[38;5;28mself\u001b[39m\u001b[38;5;241m.\u001b[39miloc[:, i]\u001b[38;5;241m.\u001b[39mastype(dtype, copy\u001b[38;5;241m=\u001b[39mcopy)\n\u001b[0;32m   6319\u001b[0m         \u001b[38;5;28;01mfor\u001b[39;00m i \u001b[38;5;129;01min\u001b[39;00m \u001b[38;5;28mrange\u001b[39m(\u001b[38;5;28mlen\u001b[39m(\u001b[38;5;28mself\u001b[39m\u001b[38;5;241m.\u001b[39mcolumns))\n\u001b[0;32m   6320\u001b[0m     ]\n\u001b[0;32m   6322\u001b[0m \u001b[38;5;28;01melse\u001b[39;00m:\n\u001b[0;32m   6323\u001b[0m     \u001b[38;5;66;03m# else, only a single dtype is given\u001b[39;00m\n\u001b[1;32m-> 6324\u001b[0m     new_data \u001b[38;5;241m=\u001b[39m \u001b[38;5;28;43mself\u001b[39;49m\u001b[38;5;241;43m.\u001b[39;49m\u001b[43m_mgr\u001b[49m\u001b[38;5;241;43m.\u001b[39;49m\u001b[43mastype\u001b[49m\u001b[43m(\u001b[49m\u001b[43mdtype\u001b[49m\u001b[38;5;241;43m=\u001b[39;49m\u001b[43mdtype\u001b[49m\u001b[43m,\u001b[49m\u001b[43m \u001b[49m\u001b[43mcopy\u001b[49m\u001b[38;5;241;43m=\u001b[39;49m\u001b[43mcopy\u001b[49m\u001b[43m,\u001b[49m\u001b[43m \u001b[49m\u001b[43merrors\u001b[49m\u001b[38;5;241;43m=\u001b[39;49m\u001b[43merrors\u001b[49m\u001b[43m)\u001b[49m\n\u001b[0;32m   6325\u001b[0m     \u001b[38;5;28;01mreturn\u001b[39;00m \u001b[38;5;28mself\u001b[39m\u001b[38;5;241m.\u001b[39m_constructor(new_data)\u001b[38;5;241m.\u001b[39m__finalize__(\u001b[38;5;28mself\u001b[39m, method\u001b[38;5;241m=\u001b[39m\u001b[38;5;124m\"\u001b[39m\u001b[38;5;124mastype\u001b[39m\u001b[38;5;124m\"\u001b[39m)\n\u001b[0;32m   6327\u001b[0m \u001b[38;5;66;03m# GH 33113: handle empty frame or series\u001b[39;00m\n",
      "File \u001b[1;32mc:\\Users\\alawi\\AppData\\Local\\Programs\\Python\\Python311\\Lib\\site-packages\\pandas\\core\\internals\\managers.py:451\u001b[0m, in \u001b[0;36mBaseBlockManager.astype\u001b[1;34m(self, dtype, copy, errors)\u001b[0m\n\u001b[0;32m    448\u001b[0m \u001b[38;5;28;01melif\u001b[39;00m using_copy_on_write():\n\u001b[0;32m    449\u001b[0m     copy \u001b[38;5;241m=\u001b[39m \u001b[38;5;28;01mFalse\u001b[39;00m\n\u001b[1;32m--> 451\u001b[0m \u001b[38;5;28;01mreturn\u001b[39;00m \u001b[38;5;28;43mself\u001b[39;49m\u001b[38;5;241;43m.\u001b[39;49m\u001b[43mapply\u001b[49m\u001b[43m(\u001b[49m\n\u001b[0;32m    452\u001b[0m \u001b[43m    \u001b[49m\u001b[38;5;124;43m\"\u001b[39;49m\u001b[38;5;124;43mastype\u001b[39;49m\u001b[38;5;124;43m\"\u001b[39;49m\u001b[43m,\u001b[49m\n\u001b[0;32m    453\u001b[0m \u001b[43m    \u001b[49m\u001b[43mdtype\u001b[49m\u001b[38;5;241;43m=\u001b[39;49m\u001b[43mdtype\u001b[49m\u001b[43m,\u001b[49m\n\u001b[0;32m    454\u001b[0m \u001b[43m    \u001b[49m\u001b[43mcopy\u001b[49m\u001b[38;5;241;43m=\u001b[39;49m\u001b[43mcopy\u001b[49m\u001b[43m,\u001b[49m\n\u001b[0;32m    455\u001b[0m \u001b[43m    \u001b[49m\u001b[43merrors\u001b[49m\u001b[38;5;241;43m=\u001b[39;49m\u001b[43merrors\u001b[49m\u001b[43m,\u001b[49m\n\u001b[0;32m    456\u001b[0m \u001b[43m    \u001b[49m\u001b[43musing_cow\u001b[49m\u001b[38;5;241;43m=\u001b[39;49m\u001b[43musing_copy_on_write\u001b[49m\u001b[43m(\u001b[49m\u001b[43m)\u001b[49m\u001b[43m,\u001b[49m\n\u001b[0;32m    457\u001b[0m \u001b[43m\u001b[49m\u001b[43m)\u001b[49m\n",
      "File \u001b[1;32mc:\\Users\\alawi\\AppData\\Local\\Programs\\Python\\Python311\\Lib\\site-packages\\pandas\\core\\internals\\managers.py:352\u001b[0m, in \u001b[0;36mBaseBlockManager.apply\u001b[1;34m(self, f, align_keys, **kwargs)\u001b[0m\n\u001b[0;32m    350\u001b[0m         applied \u001b[38;5;241m=\u001b[39m b\u001b[38;5;241m.\u001b[39mapply(f, \u001b[38;5;241m*\u001b[39m\u001b[38;5;241m*\u001b[39mkwargs)\n\u001b[0;32m    351\u001b[0m     \u001b[38;5;28;01melse\u001b[39;00m:\n\u001b[1;32m--> 352\u001b[0m         applied \u001b[38;5;241m=\u001b[39m \u001b[38;5;28;43mgetattr\u001b[39;49m\u001b[43m(\u001b[49m\u001b[43mb\u001b[49m\u001b[43m,\u001b[49m\u001b[43m \u001b[49m\u001b[43mf\u001b[49m\u001b[43m)\u001b[49m\u001b[43m(\u001b[49m\u001b[38;5;241;43m*\u001b[39;49m\u001b[38;5;241;43m*\u001b[39;49m\u001b[43mkwargs\u001b[49m\u001b[43m)\u001b[49m\n\u001b[0;32m    353\u001b[0m     result_blocks \u001b[38;5;241m=\u001b[39m extend_blocks(applied, result_blocks)\n\u001b[0;32m    355\u001b[0m out \u001b[38;5;241m=\u001b[39m \u001b[38;5;28mtype\u001b[39m(\u001b[38;5;28mself\u001b[39m)\u001b[38;5;241m.\u001b[39mfrom_blocks(result_blocks, \u001b[38;5;28mself\u001b[39m\u001b[38;5;241m.\u001b[39maxes)\n",
      "File \u001b[1;32mc:\\Users\\alawi\\AppData\\Local\\Programs\\Python\\Python311\\Lib\\site-packages\\pandas\\core\\internals\\blocks.py:511\u001b[0m, in \u001b[0;36mBlock.astype\u001b[1;34m(self, dtype, copy, errors, using_cow)\u001b[0m\n\u001b[0;32m    491\u001b[0m \u001b[38;5;250m\u001b[39m\u001b[38;5;124;03m\"\"\"\u001b[39;00m\n\u001b[0;32m    492\u001b[0m \u001b[38;5;124;03mCoerce to the new dtype.\u001b[39;00m\n\u001b[0;32m    493\u001b[0m \n\u001b[1;32m   (...)\u001b[0m\n\u001b[0;32m    507\u001b[0m \u001b[38;5;124;03mBlock\u001b[39;00m\n\u001b[0;32m    508\u001b[0m \u001b[38;5;124;03m\"\"\"\u001b[39;00m\n\u001b[0;32m    509\u001b[0m values \u001b[38;5;241m=\u001b[39m \u001b[38;5;28mself\u001b[39m\u001b[38;5;241m.\u001b[39mvalues\n\u001b[1;32m--> 511\u001b[0m new_values \u001b[38;5;241m=\u001b[39m \u001b[43mastype_array_safe\u001b[49m\u001b[43m(\u001b[49m\u001b[43mvalues\u001b[49m\u001b[43m,\u001b[49m\u001b[43m \u001b[49m\u001b[43mdtype\u001b[49m\u001b[43m,\u001b[49m\u001b[43m \u001b[49m\u001b[43mcopy\u001b[49m\u001b[38;5;241;43m=\u001b[39;49m\u001b[43mcopy\u001b[49m\u001b[43m,\u001b[49m\u001b[43m \u001b[49m\u001b[43merrors\u001b[49m\u001b[38;5;241;43m=\u001b[39;49m\u001b[43merrors\u001b[49m\u001b[43m)\u001b[49m\n\u001b[0;32m    513\u001b[0m new_values \u001b[38;5;241m=\u001b[39m maybe_coerce_values(new_values)\n\u001b[0;32m    515\u001b[0m refs \u001b[38;5;241m=\u001b[39m \u001b[38;5;28;01mNone\u001b[39;00m\n",
      "File \u001b[1;32mc:\\Users\\alawi\\AppData\\Local\\Programs\\Python\\Python311\\Lib\\site-packages\\pandas\\core\\dtypes\\astype.py:242\u001b[0m, in \u001b[0;36mastype_array_safe\u001b[1;34m(values, dtype, copy, errors)\u001b[0m\n\u001b[0;32m    239\u001b[0m     dtype \u001b[38;5;241m=\u001b[39m dtype\u001b[38;5;241m.\u001b[39mnumpy_dtype\n\u001b[0;32m    241\u001b[0m \u001b[38;5;28;01mtry\u001b[39;00m:\n\u001b[1;32m--> 242\u001b[0m     new_values \u001b[38;5;241m=\u001b[39m \u001b[43mastype_array\u001b[49m\u001b[43m(\u001b[49m\u001b[43mvalues\u001b[49m\u001b[43m,\u001b[49m\u001b[43m \u001b[49m\u001b[43mdtype\u001b[49m\u001b[43m,\u001b[49m\u001b[43m \u001b[49m\u001b[43mcopy\u001b[49m\u001b[38;5;241;43m=\u001b[39;49m\u001b[43mcopy\u001b[49m\u001b[43m)\u001b[49m\n\u001b[0;32m    243\u001b[0m \u001b[38;5;28;01mexcept\u001b[39;00m (\u001b[38;5;167;01mValueError\u001b[39;00m, \u001b[38;5;167;01mTypeError\u001b[39;00m):\n\u001b[0;32m    244\u001b[0m     \u001b[38;5;66;03m# e.g. _astype_nansafe can fail on object-dtype of strings\u001b[39;00m\n\u001b[0;32m    245\u001b[0m     \u001b[38;5;66;03m#  trying to convert to float\u001b[39;00m\n\u001b[0;32m    246\u001b[0m     \u001b[38;5;28;01mif\u001b[39;00m errors \u001b[38;5;241m==\u001b[39m \u001b[38;5;124m\"\u001b[39m\u001b[38;5;124mignore\u001b[39m\u001b[38;5;124m\"\u001b[39m:\n",
      "File \u001b[1;32mc:\\Users\\alawi\\AppData\\Local\\Programs\\Python\\Python311\\Lib\\site-packages\\pandas\\core\\dtypes\\astype.py:187\u001b[0m, in \u001b[0;36mastype_array\u001b[1;34m(values, dtype, copy)\u001b[0m\n\u001b[0;32m    184\u001b[0m     values \u001b[38;5;241m=\u001b[39m values\u001b[38;5;241m.\u001b[39mastype(dtype, copy\u001b[38;5;241m=\u001b[39mcopy)\n\u001b[0;32m    186\u001b[0m \u001b[38;5;28;01melse\u001b[39;00m:\n\u001b[1;32m--> 187\u001b[0m     values \u001b[38;5;241m=\u001b[39m \u001b[43m_astype_nansafe\u001b[49m\u001b[43m(\u001b[49m\u001b[43mvalues\u001b[49m\u001b[43m,\u001b[49m\u001b[43m \u001b[49m\u001b[43mdtype\u001b[49m\u001b[43m,\u001b[49m\u001b[43m \u001b[49m\u001b[43mcopy\u001b[49m\u001b[38;5;241;43m=\u001b[39;49m\u001b[43mcopy\u001b[49m\u001b[43m)\u001b[49m\n\u001b[0;32m    189\u001b[0m \u001b[38;5;66;03m# in pandas we don't store numpy str dtypes, so convert to object\u001b[39;00m\n\u001b[0;32m    190\u001b[0m \u001b[38;5;28;01mif\u001b[39;00m \u001b[38;5;28misinstance\u001b[39m(dtype, np\u001b[38;5;241m.\u001b[39mdtype) \u001b[38;5;129;01mand\u001b[39;00m \u001b[38;5;28missubclass\u001b[39m(values\u001b[38;5;241m.\u001b[39mdtype\u001b[38;5;241m.\u001b[39mtype, \u001b[38;5;28mstr\u001b[39m):\n",
      "File \u001b[1;32mc:\\Users\\alawi\\AppData\\Local\\Programs\\Python\\Python311\\Lib\\site-packages\\pandas\\core\\dtypes\\astype.py:138\u001b[0m, in \u001b[0;36m_astype_nansafe\u001b[1;34m(arr, dtype, copy, skipna)\u001b[0m\n\u001b[0;32m    134\u001b[0m     \u001b[38;5;28;01mraise\u001b[39;00m \u001b[38;5;167;01mValueError\u001b[39;00m(msg)\n\u001b[0;32m    136\u001b[0m \u001b[38;5;28;01mif\u001b[39;00m copy \u001b[38;5;129;01mor\u001b[39;00m is_object_dtype(arr\u001b[38;5;241m.\u001b[39mdtype) \u001b[38;5;129;01mor\u001b[39;00m is_object_dtype(dtype):\n\u001b[0;32m    137\u001b[0m     \u001b[38;5;66;03m# Explicit copy, or required since NumPy can't view from / to object.\u001b[39;00m\n\u001b[1;32m--> 138\u001b[0m     \u001b[38;5;28;01mreturn\u001b[39;00m \u001b[43marr\u001b[49m\u001b[38;5;241;43m.\u001b[39;49m\u001b[43mastype\u001b[49m\u001b[43m(\u001b[49m\u001b[43mdtype\u001b[49m\u001b[43m,\u001b[49m\u001b[43m \u001b[49m\u001b[43mcopy\u001b[49m\u001b[38;5;241;43m=\u001b[39;49m\u001b[38;5;28;43;01mTrue\u001b[39;49;00m\u001b[43m)\u001b[49m\n\u001b[0;32m    140\u001b[0m \u001b[38;5;28;01mreturn\u001b[39;00m arr\u001b[38;5;241m.\u001b[39mastype(dtype, copy\u001b[38;5;241m=\u001b[39mcopy)\n",
      "\u001b[1;31mValueError\u001b[0m: invalid literal for int() with base 10: 'استوديو'"
     ]
    }
   ],
   "source": [
    "df[\"Bedrooms\"] = df[\"Bedrooms\"].astype(int)"
   ]
  },
  {
   "cell_type": "code",
   "execution_count": 13,
   "metadata": {},
   "outputs": [],
   "source": [
    "df[\"Bedrooms\"] = df[\"Bedrooms\"].replace(\"استوديو\", 1)"
   ]
  },
  {
   "cell_type": "code",
   "execution_count": 14,
   "metadata": {},
   "outputs": [],
   "source": [
    "df[\"Bedrooms\"] = df[\"Bedrooms\"].astype(int)"
   ]
  },
  {
   "cell_type": "code",
   "execution_count": 15,
   "metadata": {},
   "outputs": [],
   "source": [
    "df[\"Area\"] = df[\"Area\"].astype(int)\n",
    "df[\"Price\"] = df[\"Price\"].astype(int)\n",
    "df[\"Bathrooms\"] = df[\"Bathrooms\"].astype(int)"
   ]
  },
  {
   "cell_type": "code",
   "execution_count": 16,
   "metadata": {},
   "outputs": [
    {
     "name": "stdout",
     "output_type": "stream",
     "text": [
      "<class 'pandas.core.frame.DataFrame'>\n",
      "RangeIndex: 1200 entries, 0 to 1199\n",
      "Data columns (total 9 columns):\n",
      " #   Column         Non-Null Count  Dtype \n",
      "---  ------         --------------  ----- \n",
      " 0   Property_ID    1200 non-null   object\n",
      " 1   Property Type  1200 non-null   object\n",
      " 2   Bedrooms       1200 non-null   int32 \n",
      " 3   Bathrooms      1200 non-null   int32 \n",
      " 4   Area           1200 non-null   int32 \n",
      " 5   Price          1200 non-null   int32 \n",
      " 6   Location       1200 non-null   object\n",
      " 7   District       1200 non-null   object\n",
      " 8   Agency_Name    821 non-null    object\n",
      "dtypes: int32(4), object(5)\n",
      "memory usage: 65.8+ KB\n"
     ]
    }
   ],
   "source": [
    "df.info()"
   ]
  },
  {
   "cell_type": "markdown",
   "metadata": {},
   "source": [
    "# Upload cleaned Data"
   ]
  },
  {
   "cell_type": "code",
   "execution_count": 17,
   "metadata": {},
   "outputs": [],
   "source": [
    "df.to_excel('../Data/Aqar_Riyadh_Processed.xlsx', index=False)"
   ]
  },
  {
   "cell_type": "markdown",
   "metadata": {},
   "source": [
    "**we will split the data to two dataframes one with Agency_Name and one without**"
   ]
  },
  {
   "cell_type": "code",
   "execution_count": null,
   "metadata": {},
   "outputs": [],
   "source": [
    "df2 = df.copy() #new df without Agency_Name\n",
    "df2.drop([\"Agency_Name\"], axis=1, inplace=True)"
   ]
  },
  {
   "cell_type": "code",
   "execution_count": null,
   "metadata": {},
   "outputs": [
    {
     "name": "stdout",
     "output_type": "stream",
     "text": [
      "<class 'pandas.core.frame.DataFrame'>\n",
      "RangeIndex: 1200 entries, 0 to 1199\n",
      "Data columns (total 9 columns):\n",
      " #   Column         Non-Null Count  Dtype  \n",
      "---  ------         --------------  -----  \n",
      " 0   Property_ID    1200 non-null   object \n",
      " 1   Property Type  1200 non-null   object \n",
      " 2   Bedrooms       1200 non-null   object \n",
      " 3   Bathrooms      1200 non-null   float64\n",
      " 4   Area           1200 non-null   int32  \n",
      " 5   Price          1200 non-null   object \n",
      " 6   Location       1200 non-null   object \n",
      " 7   District       1200 non-null   object \n",
      " 8   Agency_Name    821 non-null    object \n",
      "dtypes: float64(1), int32(1), object(7)\n",
      "memory usage: 79.8+ KB\n"
     ]
    }
   ],
   "source": [
    "df.info()"
   ]
  },
  {
   "cell_type": "code",
   "execution_count": null,
   "metadata": {},
   "outputs": [],
   "source": []
  },
  {
   "cell_type": "code",
   "execution_count": null,
   "metadata": {},
   "outputs": [],
   "source": []
  }
 ],
 "metadata": {
  "kernelspec": {
   "display_name": "Python 3",
   "language": "python",
   "name": "python3"
  },
  "language_info": {
   "codemirror_mode": {
    "name": "ipython",
    "version": 3
   },
   "file_extension": ".py",
   "mimetype": "text/x-python",
   "name": "python",
   "nbconvert_exporter": "python",
   "pygments_lexer": "ipython3",
   "version": "3.11.4"
  }
 },
 "nbformat": 4,
 "nbformat_minor": 2
}
